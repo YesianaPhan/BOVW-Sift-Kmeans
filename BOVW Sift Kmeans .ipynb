{
 "cells": [
  {
   "cell_type": "markdown",
   "metadata": {},
   "source": [
    "# Bag of Visual Words using Sift with Kmeans Classifier"
   ]
  },
  {
   "cell_type": "code",
   "execution_count": 1,
   "metadata": {},
   "outputs": [],
   "source": [
    "import numpy as np\n",
    "import cv2\n",
    "import os\n",
    "from sklearn.utils import shuffle\n",
    "import matplotlib.pyplot as plt\n",
    "from sklearn.cluster import KMeans\n",
    "from sklearn.preprocessing import StandardScaler"
   ]
  },
  {
   "cell_type": "code",
   "execution_count": 2,
   "metadata": {},
   "outputs": [],
   "source": [
    "def getDir(folder):\n",
    "    img_dir = []\n",
    "    for i in os.listdir(folder):\n",
    "        img_dir.append(folder+i)\n",
    "    return img_dir"
   ]
  },
  {
   "cell_type": "code",
   "execution_count": 3,
   "metadata": {},
   "outputs": [],
   "source": [
    "def get_descriptor(sift, img):\n",
    "    kp, desc = sift.detectAndCompute(img, None)\n",
    "    return desc"
   ]
  },
  {
   "cell_type": "code",
   "execution_count": 4,
   "metadata": {},
   "outputs": [],
   "source": [
    "def feature_extraction(kmeans, list_dp, img_len, clusters):\n",
    "    feature_img = np.array([np.zeros(clusters) for i in range(img_len)])\n",
    "    for i in range(img_len):\n",
    "        for j in range(len(list_dp[i])):\n",
    "            feature = list_dp[i][j]\n",
    "            feature = feature.reshape(1, 128)\n",
    "            index = kmeans.predict(feature)\n",
    "            feature_img[i][index] += 1\n",
    "\n",
    "    return feature_img"
   ]
  },
  {
   "cell_type": "code",
   "execution_count": 5,
   "metadata": {},
   "outputs": [],
   "source": [
    "def kmean_clustering(descriptors, clusters):\n",
    "    kmeans = KMeans(n_clusters = clusters).fit(descriptors)\n",
    "    return kmeans"
   ]
  },
  {
   "cell_type": "code",
   "execution_count": 6,
   "metadata": {},
   "outputs": [],
   "source": [
    "def join_descriptor(list_dp):\n",
    "    descriptors = np.array(list_dp[0])\n",
    "    for descriptor in list_dp[1:]:\n",
    "        descriptors = np.vstack((descriptors, descriptor)) \n",
    "    return descriptors"
   ]
  },
  {
   "cell_type": "code",
   "execution_count": 7,
   "metadata": {},
   "outputs": [],
   "source": [
    "def plot_hist(feature_img, clusters):\n",
    "    x = np.arange(clusters)\n",
    "    y = np.array([abs(np.sum(feature_img[:,i],dtype=np.int32)) for i in range(clusters)])\n",
    "\n",
    "    plt.xticks(x + .5, x)\n",
    "    plt.title(\"completed vocabulary\")\n",
    "    plt.ylabel(\"frequency\")\n",
    "    plt.xlabel(\"visual word index\")\n",
    "    plt.bar(x, y)\n",
    "    plt.show()"
   ]
  },
  {
   "cell_type": "code",
   "execution_count": 8,
   "metadata": {},
   "outputs": [],
   "source": [
    "images = getDir('UAS dataset/Dataset_P1/train/') \n",
    "list_dp = []\n",
    "sift = cv2.xfeatures2d.SIFT_create()\n",
    "train_labels = np.array([])\n",
    "label_count = 4\n",
    "len_images = len(images)\n",
    "\n",
    "#generate the list of descriptor\n",
    "for i in images:\n",
    "    img = cv2.imread(i, 0)\n",
    "    des = get_descriptor(sift, img)\n",
    "    list_dp.append(des)"
   ]
  },
  {
   "cell_type": "code",
   "execution_count": 9,
   "metadata": {},
   "outputs": [],
   "source": [
    "clusters=120"
   ]
  },
  {
   "cell_type": "markdown",
   "metadata": {},
   "source": [
    "# histogram for the train images after clustering"
   ]
  },
  {
   "cell_type": "code",
   "execution_count": 10,
   "metadata": {},
   "outputs": [
    {
     "data": {
      "image/png": "[encoded data removed]",
      "text/plain": [
       "<Figure size 432x288 with 1 Axes>"
      ]
     },
     "metadata": {
      "needs_background": "light"
     },
     "output_type": "display_data"
    }
   ],
   "source": [
    "#get the total list of descriptor from each image\n",
    "total_desc = join_descriptor(list_dp)\n",
    "\n",
    "#define the kmeans clustering\n",
    "kmeans = kmean_clustering(total_desc, clusters)\n",
    "\n",
    "#extract the feature from the images\n",
    "feature_img = feature_extraction(kmeans, list_dp, len_images, clusters)\n",
    "\n",
    "#scaling the feature using standard scaler\n",
    "ss_scaler = StandardScaler().fit(feature_img)        \n",
    "feature_img = ss_scaler.transform(feature_img)\n",
    "\n",
    "#plot the histogram\n",
    "plot_hist(feature_img, clusters)"
   ]
  },
  {
   "cell_type": "code",
   "execution_count": 11,
   "metadata": {},
   "outputs": [],
   "source": [
    "def generate_SVM(feature_img, train_labels, kernel):\n",
    "    features = feature_img\n",
    "    if(kernel == \"precomputed\"):\n",
    "        features = np.dot(feature_img, feature_img.T)"
   ]
  },
  {
   "cell_type": "code",
   "execution_count": 12,
   "metadata": {},
   "outputs": [],
   "source": [
    "kernel = 'linear'\n",
    "svm = generate_SVM(feature_img, train_labels, kernel)"
   ]
  },
  {
   "cell_type": "code",
   "execution_count": 13,
   "metadata": {},
   "outputs": [],
   "source": [
    "train_labels = np.array([])\n",
    "images_test = getDir('UAS dataset/Dataset_P1/train/') \n",
    "for img_path in images_test:\n",
    "    #generate the label from each images\n",
    "    if(\"113\" in img_path):\n",
    "        class_index = 0\n",
    "    elif(\"840\" in img_path):\n",
    "        class_index = 1\n",
    "    elif(\"644\" in img_path):\n",
    "        class_index = 2\n",
    "    elif(\"443\" in img_path):\n",
    "        class_index = 3\n",
    "    elif(\"581\" in img_path):\n",
    "        class_index = 4\n",
    "    else:\n",
    "        class_index = 5\n",
    "    train_labels = np.append(train_labels, class_index)"
   ]
  },
  {
   "cell_type": "code",
   "execution_count": 14,
   "metadata": {},
   "outputs": [
    {
     "name": "stdout",
     "output_type": "stream",
     "text": [
      "[0. 0. 0. 0. 0. 0. 0. 0. 0. 0. 0. 0. 0. 0. 0. 3. 3. 3. 3. 3. 3. 3. 3. 3.\n",
      " 3. 3. 3. 3. 3. 3. 4. 4. 4. 4. 4. 4. 4. 4. 4. 4. 4. 4. 4. 4. 4. 2. 2. 2.\n",
      " 2. 2. 2. 2. 2. 2. 2. 2. 2. 2. 2. 2. 1. 1. 1. 1. 1. 1. 1. 1. 1. 1. 1. 1.\n",
      " 1. 1. 1.]\n"
     ]
    }
   ],
   "source": [
    "print(train_labels)"
   ]
  },
  {
   "cell_type": "code",
   "execution_count": 15,
   "metadata": {},
   "outputs": [],
   "source": [
    "from sklearn import svm"
   ]
  },
  {
   "cell_type": "code",
   "execution_count": 16,
   "metadata": {},
   "outputs": [],
   "source": [
    "name_dict =\t{\"0\": \"horse\",\"1\": \"flower\",\"2\": \"dinosaur\",\"3\": \"doll\",\"4\": \"bus\"}"
   ]
  },
  {
   "cell_type": "code",
   "execution_count": 17,
   "metadata": {},
   "outputs": [],
   "source": [
    "test_img = getDir('UAS dataset/Dataset_P1/Query/')\n",
    "list_dp_test = []\n",
    "sift = cv2.xfeatures2d.SIFT_create()\n",
    "count = 0\n",
    "clas = []\n",
    "for i in test_img:\n",
    "    #read image\n",
    "    img = cv2.imread(i)\n",
    "    \n",
    "    #get the descriptor from the query images\n",
    "    des = get_descriptor(sift, img)\n",
    "    if(des is not None):\n",
    "        count += 1\n",
    "        list_dp_test.append(des)\n",
    "#         print(i)\n",
    "        #define the vector of the class from each labels\n",
    "        if(\"Q1\" in i):\n",
    "            clas.append('horse')\n",
    "        elif(\"Q2\" in i):\n",
    "            clas.append('flower')\n",
    "        elif(\"Q3\" in i):\n",
    "            clas.append('dinosaur')\n",
    "        elif(\"Q4\" in i):\n",
    "            clas.append('doll')"
   ]
  },
  {
   "cell_type": "code",
   "execution_count": 18,
   "metadata": {},
   "outputs": [
    {
     "name": "stdout",
     "output_type": "stream",
     "text": [
      "['horse', 'flower', 'dinosaur', 'doll']\n"
     ]
    }
   ],
   "source": [
    "print(clas)"
   ]
  },
  {
   "cell_type": "code",
   "execution_count": 19,
   "metadata": {},
   "outputs": [],
   "source": [
    "descriptors = join_descriptor(list_dp_test)\n",
    "\n",
    "test_features = feature_extraction(kmeans, list_dp_test, count, clusters)\n",
    "\n",
    "test_features = ss_scaler.transform(test_features)\n",
    "\n",
    "kernel_test = test_features\n",
    "\n",
    "clf = svm.SVC()\n",
    "\n",
    "clf.fit(feature_img, train_labels)\n",
    "\n",
    "predictions = [name_dict[str(int(i))] for i in clf.predict(kernel_test)]"
   ]
  },
  {
   "cell_type": "markdown",
   "metadata": {},
   "source": [
    "# plot the histogram for visual words of the query images"
   ]
  },
  {
   "cell_type": "code",
   "execution_count": 20,
   "metadata": {},
   "outputs": [
    {
     "data": {
      "image/png": "[encoded data removed]",
      "text/plain": [
       "<Figure size 432x288 with 1 Axes>"
      ]
     },
     "metadata": {
      "needs_background": "light"
     },
     "output_type": "display_data"
    }
   ],
   "source": [
    "plot_hist(test_features, clusters)"
   ]
  },
  {
   "cell_type": "markdown",
   "metadata": {},
   "source": [
    "# Cosine Similarity"
   ]
  },
  {
   "cell_type": "code",
   "execution_count": 21,
   "metadata": {},
   "outputs": [],
   "source": [
    "from scipy.spatial.distance import cosine\n",
    "\n",
    "Q1_sim = []\n",
    "Q2_sim = []\n",
    "Q3_sim = []\n",
    "Q4_sim = []\n",
    "not_used = []\n",
    "\n",
    "# find the similarity of each images depending on the class\n",
    "for i,img in enumerate(images):\n",
    "    if(\"113\" in img):\n",
    "        Q1_similarity = 1 - cosine(test_features[0], feature_img[i])\n",
    "        Q1_sim.append(Q1_similarity)\n",
    "    elif(\"840\" in img):\n",
    "        Q2_similarity = 1 - cosine(test_features[1], feature_img[i])\n",
    "        Q2_sim.append(Q2_similarity)\n",
    "    elif(\"644\" in img):\n",
    "        Q3_similarity = 1 - cosine(test_features[2], feature_img[i])\n",
    "        Q3_sim.append(Q3_similarity)\n",
    "    elif(\"443\" in img):\n",
    "        Q4_similarity = 1 - cosine(test_features[3], feature_img[i])\n",
    "        Q4_sim.append(Q4_similarity)\n",
    "    else:\n",
    "        not_used.append(img)"
   ]
  },
  {
   "cell_type": "code",
   "execution_count": 22,
   "metadata": {},
   "outputs": [],
   "source": [
    "horse = []\n",
    "flower = []\n",
    "dinosaur = []\n",
    "doll = []\n",
    "not_in_class = []\n",
    "\n",
    "# append the images according to the labels and because there is only 4 label, i want to append it on not used variable\n",
    "for img in images:\n",
    "    if(\"113\" in img):\n",
    "        horse.append(img)\n",
    "    elif(\"840\" in img):\n",
    "        flower.append(img)\n",
    "    elif(\"644\" in img):\n",
    "        dinosaur.append(img)\n",
    "    elif(\"443\" in img):\n",
    "        doll.append(img)\n",
    "    else:\n",
    "        not_in_class.append(img)"
   ]
  },
  {
   "cell_type": "code",
   "execution_count": 23,
   "metadata": {},
   "outputs": [],
   "source": [
    "# append the labels \n",
    "label = []\n",
    "not_used = []\n",
    "for img_path in images:\n",
    "    #generate the label from each images\n",
    "    if(\"113\" in img_path):\n",
    "        label.append(0)\n",
    "    elif(\"840\" in img_path):\n",
    "        label.append(1)\n",
    "    elif(\"644\" in img_path):\n",
    "        label.append(2)\n",
    "    elif(\"443\" in img_path):\n",
    "        label.append(3)\n",
    "    else:\n",
    "        not_used.append(img)"
   ]
  },
  {
   "cell_type": "code",
   "execution_count": 24,
   "metadata": {},
   "outputs": [],
   "source": [
    "import itertools\n",
    "image_listing = itertools.chain(horse, flower, dinosaur,doll)\n",
    "similarity_list = itertools.chain(Q1_sim, Q2_sim,Q3_sim,Q4_sim)"
   ]
  },
  {
   "cell_type": "code",
   "execution_count": 25,
   "metadata": {},
   "outputs": [],
   "source": [
    "import pandas as pd\n",
    "\n",
    "df = pd.DataFrame(np.column_stack([list(image_listing), list(similarity_list), label]), columns=['image','cosine similarity','label'])"
   ]
  },
  {
   "cell_type": "code",
   "execution_count": 26,
   "metadata": {},
   "outputs": [
    {
     "data": {
      "text/html": [
       "<div>\n",
       "<style scoped>\n",
       "    .dataframe tbody tr th:only-of-type {\n",
       "        vertical-align: middle;\n",
       "    }\n",
       "\n",
       "    .dataframe tbody tr th {\n",
       "        vertical-align: top;\n",
       "    }\n",
       "\n",
       "    .dataframe thead th {\n",
       "        text-align: right;\n",
       "    }\n",
       "</style>\n",
       "<table border=\"1\" class=\"dataframe\">\n",
       "  <thead>\n",
       "    <tr style=\"text-align: right;\">\n",
       "      <th></th>\n",
       "      <th>image</th>\n",
       "      <th>cosine similarity</th>\n",
       "      <th>label</th>\n",
       "    </tr>\n",
       "  </thead>\n",
       "  <tbody>\n",
       "    <tr>\n",
       "      <th>15</th>\n",
       "      <td>UAS dataset/Dataset_P1/train/84007.jpg</td>\n",
       "      <td>-0.07195692058804237</td>\n",
       "      <td>3</td>\n",
       "    </tr>\n",
       "    <tr>\n",
       "      <th>22</th>\n",
       "      <td>UAS dataset/Dataset_P1/train/84021.jpg</td>\n",
       "      <td>0.9274114891927051</td>\n",
       "      <td>3</td>\n",
       "    </tr>\n",
       "    <tr>\n",
       "      <th>11</th>\n",
       "      <td>UAS dataset/Dataset_P1/train/113083.jpg</td>\n",
       "      <td>0.08421540928861337</td>\n",
       "      <td>0</td>\n",
       "    </tr>\n",
       "    <tr>\n",
       "      <th>35</th>\n",
       "      <td>UAS dataset/Dataset_P1/train/644005.jpg</td>\n",
       "      <td>0.40452416138213254</td>\n",
       "      <td>2</td>\n",
       "    </tr>\n",
       "    <tr>\n",
       "      <th>8</th>\n",
       "      <td>UAS dataset/Dataset_P1/train/113058.jpg</td>\n",
       "      <td>0.10501614842224849</td>\n",
       "      <td>0</td>\n",
       "    </tr>\n",
       "    <tr>\n",
       "      <th>19</th>\n",
       "      <td>UAS dataset/Dataset_P1/train/84015.jpg</td>\n",
       "      <td>0.1775633749673946</td>\n",
       "      <td>3</td>\n",
       "    </tr>\n",
       "    <tr>\n",
       "      <th>56</th>\n",
       "      <td>UAS dataset/Dataset_P1/train/443027.jpg</td>\n",
       "      <td>0.24834819720141155</td>\n",
       "      <td>1</td>\n",
       "    </tr>\n",
       "    <tr>\n",
       "      <th>36</th>\n",
       "      <td>UAS dataset/Dataset_P1/train/644006.jpg</td>\n",
       "      <td>0.16432138942859642</td>\n",
       "      <td>2</td>\n",
       "    </tr>\n",
       "    <tr>\n",
       "      <th>33</th>\n",
       "      <td>UAS dataset/Dataset_P1/train/644003.jpg</td>\n",
       "      <td>0.24587728793240005</td>\n",
       "      <td>2</td>\n",
       "    </tr>\n",
       "    <tr>\n",
       "      <th>23</th>\n",
       "      <td>UAS dataset/Dataset_P1/train/84025.jpg</td>\n",
       "      <td>0.043852177938849546</td>\n",
       "      <td>3</td>\n",
       "    </tr>\n",
       "  </tbody>\n",
       "</table>\n",
       "</div>"
      ],
      "text/plain": [
       "                                      image     cosine similarity label\n",
       "15   UAS dataset/Dataset_P1/train/84007.jpg  -0.07195692058804237     3\n",
       "22   UAS dataset/Dataset_P1/train/84021.jpg    0.9274114891927051     3\n",
       "11  UAS dataset/Dataset_P1/train/113083.jpg   0.08421540928861337     0\n",
       "35  UAS dataset/Dataset_P1/train/644005.jpg   0.40452416138213254     2\n",
       "8   UAS dataset/Dataset_P1/train/113058.jpg   0.10501614842224849     0\n",
       "19   UAS dataset/Dataset_P1/train/84015.jpg    0.1775633749673946     3\n",
       "56  UAS dataset/Dataset_P1/train/443027.jpg   0.24834819720141155     1\n",
       "36  UAS dataset/Dataset_P1/train/644006.jpg   0.16432138942859642     2\n",
       "33  UAS dataset/Dataset_P1/train/644003.jpg   0.24587728793240005     2\n",
       "23   UAS dataset/Dataset_P1/train/84025.jpg  0.043852177938849546     3"
      ]
     },
     "execution_count": 26,
     "metadata": {},
     "output_type": "execute_result"
    }
   ],
   "source": [
    "df.sample(n=10)"
   ]
  },
  {
   "cell_type": "code",
   "execution_count": 27,
   "metadata": {},
   "outputs": [],
   "source": [
    "from sklearn.model_selection import train_test_split\n",
    "X = df[[\"cosine similarity\"]]\n",
    "y = df[[\"label\"]]"
   ]
  },
  {
   "cell_type": "code",
   "execution_count": 28,
   "metadata": {},
   "outputs": [],
   "source": [
    "from sklearn.preprocessing import label_binarize\n",
    "\n",
    "y_binarize = label_binarize(y, classes=['0','1', '2','3'])\n",
    "n_classes = y_binarize.shape[1]\n",
    "# Split into training and test\n",
    "train_X, test_X, train_Y, test_Y = train_test_split(X, y_binarize, test_size=.2,random_state=20)"
   ]
  },
  {
   "cell_type": "code",
   "execution_count": 29,
   "metadata": {},
   "outputs": [],
   "source": [
    "from sklearn.multiclass import OneVsRestClassifier\n",
    "\n",
    "# Run classifier\n",
    "classifier = OneVsRestClassifier(svm.LinearSVC(random_state=20))\n",
    "\n",
    "#fit the classifier\n",
    "classifier.fit(train_X, train_Y)\n",
    "\n",
    "# declare the y_score \n",
    "y_score = classifier.decision_function(test_X)"
   ]
  },
  {
   "cell_type": "code",
   "execution_count": 30,
   "metadata": {},
   "outputs": [
    {
     "name": "stdout",
     "output_type": "stream",
     "text": [
      "avg precision, micro averaged over all the classes :  0.45654002699575796\n"
     ]
    }
   ],
   "source": [
    "from sklearn.metrics import precision_recall_curve\n",
    "from sklearn.metrics import average_precision_score\n",
    "\n",
    "# declare the recall, precision and avg precision as dict\n",
    "recall = dict()\n",
    "precision = dict()\n",
    "average_precision = dict()\n",
    "\n",
    "for i in range(n_classes):\n",
    "    #calculate the avg precision\n",
    "    average_precision[i] = average_precision_score(test_Y[:, i], y_score[:, i])\n",
    "    \n",
    "    #calculate the precision and recall\n",
    "    precision[i], recall[i], _ = precision_recall_curve(test_Y[:, i],y_score[:, i])\n",
    "    \n",
    "# calculating the micro average, precision and recall\n",
    "precision[\"micro\"], recall[\"micro\"], _ = precision_recall_curve(test_Y.ravel(),y_score.ravel())\n",
    "average_precision[\"micro\"] = average_precision_score(test_Y, y_score, average=\"micro\")\n",
    "print('avg precision, micro averaged over all the classes : ',(average_precision[\"micro\"]))"
   ]
  },
  {
   "cell_type": "code",
   "execution_count": 31,
   "metadata": {},
   "outputs": [
    {
     "data": {
      "text/plain": [
       "Text(0.5, 1.0, 'avg precision score, micro-averaged over all classes: Average precision =0.46')"
      ]
     },
     "execution_count": 31,
     "metadata": {},
     "output_type": "execute_result"
    },
    {
     "data": {
      "image/png": "[encoded data removed]",
      "text/plain": [
       "<Figure size 432x288 with 1 Axes>"
      ]
     },
     "metadata": {
      "needs_background": "light"
     },
     "output_type": "display_data"
    }
   ],
   "source": [
    "plt.figure()\n",
    "plt.ylabel('Precision')\n",
    "plt.xlabel('Recall')\n",
    "plt.step(recall['micro'], precision['micro'], where='post')\n",
    "plt.title('avg precision score, micro-averaged over all classes: Average precision ={0:0.2f}'.format(average_precision[\"micro\"]))"
   ]
  }
 ],
 "metadata": {
  "kernelspec": {
   "display_name": "Python 3",
   "language": "python",
   "name": "python3"
  },
  "language_info": {
   "codemirror_mode": {
    "name": "ipython",
    "version": 3
   },
   "file_extension": ".py",
   "mimetype": "text/x-python",
   "name": "python",
   "nbconvert_exporter": "python",
   "pygments_lexer": "ipython3",
   "version": "3.7.8"
  }
 },
 "nbformat": 4,
 "nbformat_minor": 4
}
